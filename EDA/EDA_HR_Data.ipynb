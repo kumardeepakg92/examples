{
 "cells": [
  {
   "cell_type": "code",
   "execution_count": null,
   "id": "1894b590",
   "metadata": {},
   "outputs": [],
   "source": [
    "import pandas as pd"
   ]
  },
  {
   "cell_type": "code",
   "execution_count": null,
   "id": "66bb3482",
   "metadata": {},
   "outputs": [],
   "source": [
    "#Loading dataset\n",
    "df=pd.read_csv('data0/aug_train.csv')\n",
    "df.describe()"
   ]
  },
  {
   "cell_type": "code",
   "execution_count": null,
   "id": "1129b4c1",
   "metadata": {},
   "outputs": [],
   "source": [
    "df['city'].describe()"
   ]
  },
  {
   "cell_type": "markdown",
   "id": "d71899df",
   "metadata": {},
   "source": [
    "## EDA  Report with Pandas Profiling "
   ]
  },
  {
   "cell_type": "code",
   "execution_count": null,
   "id": "cc371a4f",
   "metadata": {},
   "outputs": [],
   "source": [
    "import pandas_profiling"
   ]
  },
  {
   "cell_type": "code",
   "execution_count": null,
   "id": "b6b12cfd",
   "metadata": {},
   "outputs": [],
   "source": [
    "profile_report=df.profile_report()"
   ]
  },
  {
   "cell_type": "code",
   "execution_count": null,
   "id": "4c9f12ed",
   "metadata": {},
   "outputs": [],
   "source": [
    "profile_report"
   ]
  },
  {
   "cell_type": "code",
   "execution_count": null,
   "id": "522b7b19",
   "metadata": {},
   "outputs": [],
   "source": [
    "profile_report.to_file('data0.pdf')"
   ]
  },
  {
   "cell_type": "markdown",
   "id": "4d19dcae",
   "metadata": {},
   "source": [
    "## EDA Report with Sweetviz"
   ]
  },
  {
   "cell_type": "code",
   "execution_count": null,
   "id": "39f0b29f",
   "metadata": {},
   "outputs": [],
   "source": [
    "import sweetviz as sv"
   ]
  },
  {
   "cell_type": "code",
   "execution_count": null,
   "id": "83155cd1",
   "metadata": {},
   "outputs": [],
   "source": [
    "sweetviz_report=sv.analyze(df)"
   ]
  },
  {
   "cell_type": "code",
   "execution_count": null,
   "id": "e483964e",
   "metadata": {},
   "outputs": [],
   "source": [
    "sweetviz_report.show_html()"
   ]
  },
  {
   "cell_type": "markdown",
   "id": "779c6286",
   "metadata": {},
   "source": [
    "## EDA Report with Autotviz"
   ]
  },
  {
   "cell_type": "code",
   "execution_count": null,
   "id": "300ae97c",
   "metadata": {},
   "outputs": [],
   "source": [
    "from autoviz.AutoViz_Class import AutoViz_Class"
   ]
  },
  {
   "cell_type": "code",
   "execution_count": null,
   "id": "b9923b4d",
   "metadata": {},
   "outputs": [],
   "source": [
    "#EDA using Autoviz\n",
    "av=AutoViz_Class()\n",
    "data = av.AutoViz('data0/aug_train.csv')"
   ]
  },
  {
   "cell_type": "markdown",
   "id": "f19a9cf8",
   "metadata": {},
   "source": [
    "## EDA Report with Dtale"
   ]
  },
  {
   "cell_type": "code",
   "execution_count": null,
   "id": "1046a12f",
   "metadata": {},
   "outputs": [],
   "source": [
    "import dtale"
   ]
  },
  {
   "cell_type": "code",
   "execution_count": null,
   "id": "00f858ce",
   "metadata": {
    "scrolled": true
   },
   "outputs": [],
   "source": [
    "dtale.show(df)"
   ]
  },
  {
   "cell_type": "markdown",
   "id": "b1eb33cc",
   "metadata": {},
   "source": [
    "## EDA Report with DataPrep"
   ]
  },
  {
   "cell_type": "code",
   "execution_count": null,
   "id": "1cad8a61",
   "metadata": {},
   "outputs": [],
   "source": [
    "from dataprep.eda import create_report"
   ]
  },
  {
   "cell_type": "code",
   "execution_count": null,
   "id": "6e152de4",
   "metadata": {},
   "outputs": [],
   "source": [
    "create_report(df)"
   ]
  },
  {
   "cell_type": "markdown",
   "id": "3634a383",
   "metadata": {},
   "source": [
    "## EDA Report with statsModels "
   ]
  },
  {
   "cell_type": "code",
   "execution_count": null,
   "id": "dffc547b",
   "metadata": {},
   "outputs": [],
   "source": [
    "from speedml import Speedml\n",
    "sml = Speedml('data0/aug_train.csv',\n",
    "              'data0/aug_test.csv',\n",
    "             target='target')\n",
    "\n",
    "sml.eda()"
   ]
  },
  {
   "cell_type": "code",
   "execution_count": null,
   "id": "6fdd004a",
   "metadata": {},
   "outputs": [],
   "source": [
    "sml.plot.strip('experience','training_hours')"
   ]
  },
  {
   "cell_type": "code",
   "execution_count": null,
   "id": "50caf259",
   "metadata": {},
   "outputs": [],
   "source": [
    "sml.plot.bar('experience','training_hours')"
   ]
  }
 ],
 "metadata": {
  "kernelspec": {
   "display_name": "Python 3 (ipykernel)",
   "language": "python",
   "name": "python3"
  },
  "language_info": {
   "codemirror_mode": {
    "name": "ipython",
    "version": 3
   },
   "file_extension": ".py",
   "mimetype": "text/x-python",
   "name": "python",
   "nbconvert_exporter": "python",
   "pygments_lexer": "ipython3",
   "version": "3.9.12"
  }
 },
 "nbformat": 4,
 "nbformat_minor": 5
}
